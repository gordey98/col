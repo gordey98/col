{
 "cells": [
  {
   "cell_type": "code",
   "execution_count": 1,
   "metadata": {},
   "outputs": [],
   "source": [
    "import numpy as np\n",
    "import math\n",
    "import matplotlib.pylab as plt"
   ]
  },
  {
   "cell_type": "code",
   "execution_count": 2,
   "metadata": {},
   "outputs": [],
   "source": [
    "u=np.ones(3)\n",
    "v=np.ones(3)\n",
    "u1=np.ones(3)\n",
    "v1=np.ones(3)\n",
    "g=np.ones(3)\n",
    "g1=np.ones(3)\n",
    "e=0\n",
    "b=0\n",
    "theta=0\n",
    "d=1"
   ]
  },
  {
   "cell_type": "markdown",
   "metadata": {},
   "source": [
    "Функция, пересчитывающая скорости после столкновения"
   ]
  },
  {
   "cell_type": "code",
   "execution_count": 3,
   "metadata": {},
   "outputs": [],
   "source": [
    "def col (u,v,e,b):\n",
    "    g=u-v\n",
    "    theta=2*np.arccos(b/d)\n",
    "    g2=np.sqrt(g[0]**2+g[1]**2)\n",
    "    g1[0]=g[0]*np.cos(theta)-g[0]*g[2]*np.cos(e)*np.sin(theta)/g2+g[0]*g[1]*np.sin(e)*np.sin(theta)/g2\n",
    "    g1[1]=g[1]*np.cos(theta)-g[1]*g[2]*np.cos(e)*np.sin(theta)/g2+g[0]*g[1]*np.sin(e)*np.sin(theta)/g2\n",
    "    g1[2]=g[2]*np.cos(theta)+g2*np.cos(e)*np.sin(theta)\n",
    "    u1=u*0.5+v*0.5+g1*0.5\n",
    "    v1=(u+v)*0.5-g1*0.5\n",
    "    return u1, v1"
   ]
  },
  {
   "cell_type": "code",
   "execution_count": 4,
   "metadata": {},
   "outputs": [],
   "source": [
    "def countr(i,j,k):\n",
    "    E1=v[0][i]**2+v[1][j]**2+v[2][k]**2+v[0][k1]**2+v[1][k2]**2+v[2][k3]**2\n",
    "    E2=v[0][i-k1+j1]**2+v[1][j-k2+j2]**2+v[2][k-k3+j3]**2+v[0][j1]**2+v[1][j2]**2+v[2][j3]**2\n",
    "    r=(E0-E1)/(E2-E1)\n",
    "    return (r)"
   ]
  },
  {
   "cell_type": "code",
   "execution_count": 5,
   "metadata": {},
   "outputs": [],
   "source": [
    "def dist(v,i,j,k):\n",
    "    f[i][j][k]=4*math.pi*(np.sqrt(1/(2*math.pi)))**3*np.exp(-((v[0][i]-3)**2+(v[1][j]-3)**2+(v[2][k]-3)**2)/(2))+4*math.pi*(np.sqrt(1/(2*math.pi)))**3*np.exp(-((v[0][i]+3)**2+(v[1][j]+3)**2+(v[2][k]+3)**2)/(2))\n",
    "    return f"
   ]
  },
  {
   "cell_type": "code",
   "execution_count": null,
   "metadata": {},
   "outputs": [],
   "source": []
  },
  {
   "cell_type": "markdown",
   "metadata": {},
   "source": [
    "Проверка"
   ]
  },
  {
   "cell_type": "code",
   "execution_count": 6,
   "metadata": {},
   "outputs": [
    {
     "data": {
      "text/plain": [
       "'Correct'"
      ]
     },
     "execution_count": 6,
     "metadata": {},
     "output_type": "execute_result"
    }
   ],
   "source": [
    "vtest=np.random.randn(3)\n",
    "utest=np.random.randn(3)\n",
    "u1,v1=col(vtest,utest,0,0)\n",
    "def test(u1, v1):\n",
    "    if (np.round(utest+vtest,6) == np.round(u1+v1,6)).all() and round(utest[0]**2+utest[1]**2+utest[2]**2+vtest[0]**2+vtest[1]**2+vtest[2]**2,6) == round(u1[0]**2+u1[1]**2+u1[2]**2+v1[0]**2+v1[1]**2+v1[2]**2,6):\n",
    "        return (\"Correct\")\n",
    "    else:\n",
    "        return (\"Incorrect\")\n",
    "test(u1,v1)"
   ]
  },
  {
   "cell_type": "markdown",
   "metadata": {},
   "source": [
    "Сетка"
   ]
  },
  {
   "cell_type": "code",
   "execution_count": 8,
   "metadata": {},
   "outputs": [],
   "source": [
    "k=1\n",
    "T=1\n",
    "m=1\n",
    "v0=np.sqrt(k*T/m)\n",
    "delta=v0/2\n",
    "vcut=10*v0\n",
    "M=vcut/delta\n",
    "v=[[(0.5+k)*delta for k in range(int(-M-1),int(M+1))] for j in range(3)]\n",
    "f=np.zeros((int(2*M)+2,int(2*M)+2,int(2*M)+2))\n",
    "C=16*math.pi*vcut**3/(delta)**3\n",
    "for i in range(0,int(2*M)+1):\n",
    "    for j in range(0,int(2*M)+1):\n",
    "        for k in range(0,int(2*M)+1):\n",
    "            np.append(f,dist(v,i,j,k))"
   ]
  },
  {
   "cell_type": "markdown",
   "metadata": {},
   "source": [
    "Генерация скоростей (индексов из сетки)"
   ]
  },
  {
   "cell_type": "code",
   "execution_count": 9,
   "metadata": {},
   "outputs": [],
   "source": [
    "b=np.random.rand()\n",
    "e=np.random.uniform(0,2*math.pi)\n",
    "i1=np.random.randint(int(-M-1),int(M+1))\n",
    "i2=np.random.randint(int(-M-1),int(M+1))\n",
    "i3=np.random.randint(int(-M-1),int(M+1))\n",
    "j1=np.random.randint(int(-M-1),int(M+1))  \n",
    "j2=np.random.randint(int(-M-1),int(M+1))\n",
    "j3=np.random.randint(int(-M-1),int(M+1))"
   ]
  },
  {
   "cell_type": "code",
   "execution_count": 15,
   "metadata": {},
   "outputs": [
    {
     "data": {
      "text/plain": [
       "0.532608695652174"
      ]
     },
     "execution_count": 15,
     "metadata": {},
     "output_type": "execute_result"
    }
   ],
   "source": [
    "r"
   ]
  },
  {
   "cell_type": "code",
   "execution_count": 44,
   "metadata": {},
   "outputs": [
    {
     "name": "stderr",
     "output_type": "stream",
     "text": [
      "/anaconda3/lib/python3.6/site-packages/ipykernel_launcher.py:4: RuntimeWarning: divide by zero encountered in double_scalars\n",
      "  after removing the cwd from sys.path.\n",
      "/anaconda3/lib/python3.6/site-packages/ipykernel_launcher.py:48: RuntimeWarning: invalid value encountered in double_scalars\n",
      "/anaconda3/lib/python3.6/site-packages/ipykernel_launcher.py:4: RuntimeWarning: invalid value encountered in double_scalars\n",
      "  after removing the cwd from sys.path.\n",
      "/anaconda3/lib/python3.6/site-packages/ipykernel_launcher.py:48: RuntimeWarning: overflow encountered in double_scalars\n",
      "/anaconda3/lib/python3.6/site-packages/ipykernel_launcher.py:5: RuntimeWarning: invalid value encountered in double_scalars\n",
      "  \"\"\"\n",
      "/anaconda3/lib/python3.6/site-packages/ipykernel_launcher.py:6: RuntimeWarning: invalid value encountered in double_scalars\n",
      "  \n",
      "/anaconda3/lib/python3.6/site-packages/ipykernel_launcher.py:48: RuntimeWarning: divide by zero encountered in double_scalars\n",
      "/anaconda3/lib/python3.6/site-packages/ipykernel_launcher.py:50: RuntimeWarning: invalid value encountered in double_scalars\n",
      "/anaconda3/lib/python3.6/site-packages/ipykernel_launcher.py:52: RuntimeWarning: invalid value encountered in double_scalars\n",
      "/anaconda3/lib/python3.6/site-packages/ipykernel_launcher.py:53: RuntimeWarning: invalid value encountered in double_scalars\n",
      "/anaconda3/lib/python3.6/site-packages/ipykernel_launcher.py:51: RuntimeWarning: invalid value encountered in double_scalars\n",
      "/anaconda3/lib/python3.6/site-packages/ipykernel_launcher.py:54: RuntimeWarning: invalid value encountered in double_scalars\n"
     ]
    }
   ],
   "source": [
    "for o in range(100000):\n",
    "    b=np.random.rand()\n",
    "    e=np.random.uniform(0,2*math.pi)\n",
    "    i1=np.random.randint(int(-M-1),int(M+1))\n",
    "    i2=np.random.randint(int(-M-1),int(M+1))\n",
    "    i3=np.random.randint(int(-M-1),int(M+1))\n",
    "    j1=np.random.randint(int(-M-1),int(M+1))  \n",
    "    j2=np.random.randint(int(-M-1),int(M+1))\n",
    "    j3=np.random.randint(int(-M-1),int(M+1))\n",
    "    u1,v1=col(np.array([v[0][i1],v[1][i2],v[2][i3]]),np.array([v[0][j1],v[1][j2],v[2][j3]]),e,b)\n",
    "    if abs(u1[0])<10 and abs(u1[1])<10 and abs(u1[2])<10 and abs(v1[0])<10 and abs(v1[1])<10 and abs(v1[2])<10:\n",
    "        k1=int(round((u1[0]+10.25)/delta))\n",
    "        k2=int(round((u1[1]+10.25)/delta))\n",
    "        k3=int(round((u1[2]+10.25)/delta))\n",
    "        l1=int(round((v1[0]+10.25)/delta))\n",
    "        l2=int(round((v1[1]+10.25)/delta))\n",
    "        l3=int(round((v1[2]+10.25)/delta))\n",
    "        u2=np.ones(3)\n",
    "        v2=np.ones(3)\n",
    "        u2[0]=v[0][int(k1)]\n",
    "        u2[1]=v[1][int(k2)]\n",
    "        u2[2]=v[2][int(k3)]\n",
    "        v2[0]=v[0][int(l1)]\n",
    "        v2[1]=v[1][int(l2)]\n",
    "        v2[2]=v[2][int(l3)]\n",
    "        E0=v[0][i1]**2+v[1][i2]**2+v[2][i3]**2+v[0][j1]**2+v[1][j2]**2+v[2][j3]**2\n",
    "        q=np.ones(3)\n",
    "        for i in range(k1-1,k1+2):\n",
    "            for j in range(k2-1,k2+2):\n",
    "                for k in range(k3-1,k3+2):\n",
    "                    r = countr(i,j,k)\n",
    "                    if r<1 and r>0:\n",
    "                        q[0]=i\n",
    "                        q[1]=j\n",
    "                        q[2]=k\n",
    "                        break\n",
    "                    else:\n",
    "                        continue\n",
    "        if q[0] != 1 or q[1] != 1 or q[2] != 1:\n",
    "            #fa=f[int(i1+M)][int(i2+M)][int(i3+M)]\n",
    "            #fb=f[int(j1+M)][int(j2+M)][int(j3+M)]\n",
    "            #flam=f[k1][k2][k3]\n",
    "            #fmu=f[l1][l2][l3]\n",
    "            #fmu1=f[int(q[0])][int(q[1])][int(q[2])]\n",
    "            #flam1=f[int(q[0]-k1+j1)][int(q[1]-k2+j2)][int(q[2]-k3+j3)]\n",
    "            deltat=0.1\n",
    "            B=0\n",
    "            B=B+C*((f[k1][k2][k3]*f[l1][l2][l3])**(1-r)*(f[int(q[0])][int(q[1])][int(q[2])]*f[int(q[0]-k1+j1)][int(q[1]-k2+j2)][int(q[2]-k3+j3)])**r-f[int(i1+M)][int(i2+M)][int(i3+M)]*f[int(j1+M)][int(j2+M)][int(j3+M)])\n",
    "            f[int(i1+M)][int(i2+M)][int(i3+M)]=f[int(i1+M)][int(i2+M)][int(i3+M)]-B*deltat\n",
    "            f[int(j1+M)][int(j2+M)][int(j3+M)]=f[int(j1+M)][int(j2+M)][int(j3+M)]-B*deltat\n",
    "            f[k1][k2][k3]=f[k1][k2][k3]+r*B*deltat\n",
    "            f[l1][l2][l3]=f[l1][l2][l3]+r*B*deltat\n",
    "            f[int(q[0])][int(q[1])][int(q[2])]=f[int(q[0])][int(q[1])][int(q[2])]+(1-r)*B*deltat\n",
    "            f[int(q[0]-k1+j1)][int(q[1]-k2+j2)][int(q[2]-k3+j3)]=f[int(q[0]-k1+j1)][int(q[1]-k2+j2)][int(q[2]-k3+j3)]+(1-r)*B*deltat"
   ]
  },
  {
   "cell_type": "code",
   "execution_count": null,
   "metadata": {},
   "outputs": [],
   "source": []
  },
  {
   "cell_type": "code",
   "execution_count": null,
   "metadata": {
    "scrolled": true
   },
   "outputs": [],
   "source": []
  },
  {
   "cell_type": "code",
   "execution_count": 65,
   "metadata": {
    "scrolled": true
   },
   "outputs": [
    {
     "data": {
      "image/png": "[encoded data removed]",
      "text/plain": [
       "<Figure size 432x288 with 1 Axes>"
      ]
     },
     "metadata": {},
     "output_type": "display_data"
    }
   ],
   "source": [
    "fig=plt.figure()\n",
    "plt.plot(v[0],f[1][40])\n",
    "plt.show()"
   ]
  },
  {
   "cell_type": "code",
   "execution_count": 78,
   "metadata": {},
   "outputs": [],
   "source": [
    "u1,v1=col(np.array([v[0][i1],v[1][i2],v[2][i3]]),np.array([v[0][j1],v[1][j2],v[2][j3]]),e,b)"
   ]
  },
  {
   "cell_type": "markdown",
   "metadata": {},
   "source": [
    "interpolation"
   ]
  },
  {
   "cell_type": "code",
   "execution_count": 79,
   "metadata": {},
   "outputs": [],
   "source": [
    "k1=int(round((u1[0]+10.25)/delta))\n",
    "k2=int(round((u1[1]+10.25)/delta))\n",
    "k3=int(round((u1[2]+10.25)/delta))\n",
    "l1=int(round((v1[0]+10.25)/delta))\n",
    "l2=int(round((v1[1]+10.25)/delta))\n",
    "l3=int(round((v1[2]+10.25)/delta))"
   ]
  },
  {
   "cell_type": "code",
   "execution_count": 80,
   "metadata": {},
   "outputs": [],
   "source": [
    "u2=np.ones(3)\n",
    "v2=np.ones(3)\n",
    "u2[0]=v[0][int(k1)]\n",
    "u2[1]=v[1][int(k2)]\n",
    "u2[2]=v[2][int(k3)]\n",
    "v2[0]=v[0][int(l1)]\n",
    "v2[1]=v[1][int(l2)]\n",
    "v2[2]=v[2][int(l3)]"
   ]
  },
  {
   "cell_type": "code",
   "execution_count": 81,
   "metadata": {},
   "outputs": [],
   "source": [
    "E0=v[0][i1]**2+v[1][i2]**2+v[2][i3]**2+v[0][j1]**2+v[1][j2]**2+v[2][j3]**2"
   ]
  },
  {
   "cell_type": "code",
   "execution_count": 82,
   "metadata": {},
   "outputs": [],
   "source": [
    "def countr(i,j,k):\n",
    "    E1=v[0][i]**2+v[1][j]**2+v[2][k]**2+v[0][k1]**2+v[1][k2]**2+v[2][k3]**2\n",
    "    E2=v[0][i-k1+j1]**2+v[1][j-k2+j2]**2+v[2][k-k3+j3]**2+v[0][j1]**2+v[1][j2]**2+v[2][j3]**2\n",
    "    r=(E0-E1)/(E2-E1)\n",
    "    return (r)"
   ]
  },
  {
   "cell_type": "code",
   "execution_count": 85,
   "metadata": {},
   "outputs": [
    {
     "data": {
      "text/plain": [
       "-4.0"
      ]
     },
     "execution_count": 85,
     "metadata": {},
     "output_type": "execute_result"
    }
   ],
   "source": [
    "q[0]-k1+j1"
   ]
  },
  {
   "cell_type": "code",
   "execution_count": 66,
   "metadata": {},
   "outputs": [
    {
     "data": {
      "text/plain": [
       "array([[[            nan,  1.51553228e-33,             nan, ...,\n",
       "                     nan,             nan,             nan],\n",
       "        [ 1.51553228e-33,  5.01875364e-32,             nan, ...,\n",
       "                     nan,             nan,  0.00000000e+00],\n",
       "        [ 3.90860926e-32,  1.29435362e-30,  3.33818199e-29, ...,\n",
       "          2.63127515e-53,  5.07955599e-56,             nan],\n",
       "        ...,\n",
       "        [            nan,  1.02025609e-54,             nan, ...,\n",
       "          6.52227900e-56,  2.52896202e-57,             nan],\n",
       "        [            nan,  1.96955760e-57,  5.07955599e-56, ...,\n",
       "                     nan,  9.80584988e-59,             nan],\n",
       "        [ 0.00000000e+00,  0.00000000e+00,             nan, ...,\n",
       "                     nan,  0.00000000e+00,  0.00000000e+00]],\n",
       "\n",
       "       [[            nan,             nan,             nan, ...,\n",
       "                     nan,             nan,             nan],\n",
       "        [-2.72394911e-04,             nan,  4.28631052e-29, ...,\n",
       "                     nan,  6.52227900e-56,             nan],\n",
       "        [            nan,             nan,             nan, ...,\n",
       "          8.71358658e-52, -2.85750309e-06,  0.00000000e+00],\n",
       "        ...,\n",
       "        [            nan,  3.37862417e-53, -2.20622665e-11, ...,\n",
       "                     nan,             nan, -3.68581430e-12],\n",
       "        [            nan,  6.52227900e-56,  1.68211792e-54, ...,\n",
       "                     nan,             nan,  0.00000000e+00],\n",
       "        [ 0.00000000e+00,             nan, -6.71214501e-16, ...,\n",
       "                     nan,  0.00000000e+00,             nan]],\n",
       "\n",
       "       [[ 3.90860926e-32,  1.29435362e-30,             nan, ...,\n",
       "                     nan,             nan,             nan],\n",
       "        [            nan,             nan,             nan, ...,\n",
       "         -4.01815297e-26,             nan,             nan],\n",
       "        [ 3.33818199e-29,  1.10545405e-27, -2.90380280e-16, ...,\n",
       "                     nan,  4.33823931e-53,             nan],\n",
       "        ...,\n",
       "        [            nan,  8.71358658e-52, -8.26003996e-10, ...,\n",
       "          2.24726360e-50,             nan,             nan],\n",
       "        [ 5.07955599e-56,             nan,             nan, ...,\n",
       "         -1.42667560e-11,             nan,             nan],\n",
       "        [            nan,             nan,             nan, ...,\n",
       "          0.00000000e+00,  0.00000000e+00,             nan]],\n",
       "\n",
       "       ...,\n",
       "\n",
       "       [[            nan,             nan, -5.16899239e-05, ...,\n",
       "                     nan,             nan,  0.00000000e+00],\n",
       "        [ 1.02025609e-54,  3.37862417e-53,  8.71358658e-52, ...,\n",
       "          4.33823931e-53,  1.68211792e-54,  0.00000000e+00],\n",
       "        [            nan, -3.11075567e-33,  2.24726360e-50, ...,\n",
       "                     nan,             nan,             nan],\n",
       "        ...,\n",
       "        [            nan,             nan,             nan, ...,\n",
       "         -4.09532516e-15,             nan,             nan],\n",
       "        [            nan,             nan,  8.71358658e-52, ...,\n",
       "         -2.78831297e-10,             nan,             nan],\n",
       "        [            nan, -6.65796749e-05,             nan, ...,\n",
       "                     nan,  0.00000000e+00,             nan]],\n",
       "\n",
       "       [[            nan,             nan,             nan, ...,\n",
       "          2.52896202e-57,  9.80584988e-59, -4.17507828e-06],\n",
       "        [            nan,  6.52227900e-56,             nan, ...,\n",
       "          1.68211792e-54,  6.52227900e-56,             nan],\n",
       "        [            nan,             nan,             nan, ...,\n",
       "          8.71358658e-52, -1.05431952e-06, -3.38927064e-03],\n",
       "        ...,\n",
       "        [ 2.52896202e-57, -2.09556711e-20,  8.71358658e-52, ...,\n",
       "                     nan,  4.28631052e-29,  0.00000000e+00],\n",
       "        [            nan, -7.06532302e-15,  3.37862417e-53, ...,\n",
       "                     nan,             nan,             nan],\n",
       "        [            nan,             nan,             nan, ...,\n",
       "                     nan,  0.00000000e+00,             nan]],\n",
       "\n",
       "       [[            nan,             nan,  0.00000000e+00, ...,\n",
       "          0.00000000e+00,  0.00000000e+00,             nan],\n",
       "        [            nan,  0.00000000e+00,             nan, ...,\n",
       "          0.00000000e+00,             nan,             nan],\n",
       "        [            nan,  0.00000000e+00,  0.00000000e+00, ...,\n",
       "                     nan,             nan,  0.00000000e+00],\n",
       "        ...,\n",
       "        [            nan,  0.00000000e+00,             nan, ...,\n",
       "                     nan,             nan,             nan],\n",
       "        [ 0.00000000e+00,  0.00000000e+00,             nan, ...,\n",
       "                     nan,             nan,             nan],\n",
       "        [            nan,             nan,  0.00000000e+00, ...,\n",
       "                     nan,             nan,  0.00000000e+00]]])"
      ]
     },
     "execution_count": 66,
     "metadata": {},
     "output_type": "execute_result"
    }
   ],
   "source": [
    "f"
   ]
  },
  {
   "cell_type": "code",
   "execution_count": 83,
   "metadata": {},
   "outputs": [],
   "source": [
    "q=np.ones(3)\n",
    "for i in range(k1-1,k1+2):\n",
    "    for j in range(k2-1,k2+2):\n",
    "        for k in range(k3-1,k3+2):\n",
    "            r = countr(i,j,k)\n",
    "            if r<1 and r>0:\n",
    "                q[0]=i\n",
    "                q[1]=j\n",
    "                q[2]=k\n",
    "                break\n",
    "            else:\n",
    "                continue"
   ]
  },
  {
   "cell_type": "markdown",
   "metadata": {},
   "source": [
    "Рассчитаем интеграл столкновений"
   ]
  },
  {
   "cell_type": "code",
   "execution_count": 257,
   "metadata": {},
   "outputs": [],
   "source": [
    "C=16*math.pi*vcut**3/(delta)**3"
   ]
  },
  {
   "cell_type": "markdown",
   "metadata": {},
   "source": [
    "Задание функции распределения"
   ]
  },
  {
   "cell_type": "code",
   "execution_count": 258,
   "metadata": {},
   "outputs": [],
   "source": [
    "def dist(v,i,j,k):\n",
    "    f[i][j][k]=4*math.pi*(v[0][i]**2+v[1][j]**2+v[2][k]**2)*(np.sqrt(1/(2*math.pi)))**3*np.exp(-(v[0][i]**2+v[1][j]**2+v[2][k]**2)/(0.5))+4*math.pi*((v[0][i]**2+v[1][j]**2+v[2][k]**2)*20)*(np.sqrt(1/(2*math.pi)))**3*np.exp(-(v[0][i]**2+v[1][j]**2+v[2][k]**2)*20/(0.5))\n",
    "    return f"
   ]
  },
  {
   "cell_type": "code",
   "execution_count": 396,
   "metadata": {},
   "outputs": [],
   "source": [
    "def disttest(v):\n",
    "    f=4*math.pi*(np.sqrt(1/(2*math.pi)))**3*np.exp(-(v-2)**2)+4*math.pi*(np.sqrt(1/(2*math.pi)))**3*np.exp(-(v+2)**2)\n",
    "    return f"
   ]
  },
  {
   "cell_type": "code",
   "execution_count": 397,
   "metadata": {},
   "outputs": [],
   "source": [
    "p=np.arange(-10,10,0.1)"
   ]
  },
  {
   "cell_type": "code",
   "execution_count": 398,
   "metadata": {},
   "outputs": [
    {
     "data": {
      "text/plain": [
       "<function matplotlib.pyplot.show(*args, **kw)>"
      ]
     },
     "execution_count": 398,
     "metadata": {},
     "output_type": "execute_result"
    },
    {
     "data": {
      "image/png": "[encoded data removed]",
      "text/plain": [
       "<Figure size 432x288 with 1 Axes>"
      ]
     },
     "metadata": {},
     "output_type": "display_data"
    }
   ],
   "source": [
    "fig=plt.figure()\n",
    "plt.plot(p,disttest(p))\n",
    "plt.show"
   ]
  },
  {
   "cell_type": "code",
   "execution_count": 263,
   "metadata": {},
   "outputs": [],
   "source": [
    "f=np.zeros((int(2*M)+1,int(2*M)+1,int(2*M)+1))\n",
    "for i in range(0,int(2*M)+1):\n",
    "    for j in range(0,int(2*M)+1):\n",
    "        for k in range(0,int(2*M)+1):\n",
    "            np.append(f,dist(v,i,j,k))"
   ]
  },
  {
   "cell_type": "markdown",
   "metadata": {},
   "source": [
    "Массив, в котором каждому значению сетки соответствует значение функции распределения"
   ]
  },
  {
   "cell_type": "code",
   "execution_count": 448,
   "metadata": {},
   "outputs": [
    {
     "data": {
      "text/plain": [
       "array([[[0., 0., 0., ..., 0., 0., 0.],\n",
       "        [0., 0., 0., ..., 0., 0., 0.],\n",
       "        [0., 0., 0., ..., 0., 0., 0.],\n",
       "        ...,\n",
       "        [0., 0., 0., ..., 0., 0., 0.],\n",
       "        [0., 0., 0., ..., 0., 0., 0.],\n",
       "        [0., 0., 0., ..., 0., 0., 0.]],\n",
       "\n",
       "       [[0., 0., 0., ..., 0., 0., 0.],\n",
       "        [0., 0., 0., ..., 0., 0., 0.],\n",
       "        [0., 0., 0., ..., 0., 0., 0.],\n",
       "        ...,\n",
       "        [0., 0., 0., ..., 0., 0., 0.],\n",
       "        [0., 0., 0., ..., 0., 0., 0.],\n",
       "        [0., 0., 0., ..., 0., 0., 0.]],\n",
       "\n",
       "       [[0., 0., 0., ..., 0., 0., 0.],\n",
       "        [0., 0., 0., ..., 0., 0., 0.],\n",
       "        [0., 0., 0., ..., 0., 0., 0.],\n",
       "        ...,\n",
       "        [0., 0., 0., ..., 0., 0., 0.],\n",
       "        [0., 0., 0., ..., 0., 0., 0.],\n",
       "        [0., 0., 0., ..., 0., 0., 0.]],\n",
       "\n",
       "       ...,\n",
       "\n",
       "       [[0., 0., 0., ..., 0., 0., 0.],\n",
       "        [0., 0., 0., ..., 0., 0., 0.],\n",
       "        [0., 0., 0., ..., 0., 0., 0.],\n",
       "        ...,\n",
       "        [0., 0., 0., ..., 0., 0., 0.],\n",
       "        [0., 0., 0., ..., 0., 0., 0.],\n",
       "        [0., 0., 0., ..., 0., 0., 0.]],\n",
       "\n",
       "       [[0., 0., 0., ..., 0., 0., 0.],\n",
       "        [0., 0., 0., ..., 0., 0., 0.],\n",
       "        [0., 0., 0., ..., 0., 0., 0.],\n",
       "        ...,\n",
       "        [0., 0., 0., ..., 0., 0., 0.],\n",
       "        [0., 0., 0., ..., 0., 0., 0.],\n",
       "        [0., 0., 0., ..., 0., 0., 0.]],\n",
       "\n",
       "       [[0., 0., 0., ..., 0., 0., 0.],\n",
       "        [0., 0., 0., ..., 0., 0., 0.],\n",
       "        [0., 0., 0., ..., 0., 0., 0.],\n",
       "        ...,\n",
       "        [0., 0., 0., ..., 0., 0., 0.],\n",
       "        [0., 0., 0., ..., 0., 0., 0.],\n",
       "        [0., 0., 0., ..., 0., 0., 0.]]])"
      ]
     },
     "execution_count": 448,
     "metadata": {},
     "output_type": "execute_result"
    }
   ],
   "source": [
    "f"
   ]
  },
  {
   "cell_type": "code",
   "execution_count": 98,
   "metadata": {},
   "outputs": [
    {
     "name": "stdout",
     "output_type": "stream",
     "text": [
      "0\n"
     ]
    }
   ],
   "source": [
    "q = [3,1,1]\n",
    "if q[0] != 1 or q[1] != 1 or q[2] != 1:\n",
    "    print (0)"
   ]
  },
  {
   "cell_type": "code",
   "execution_count": 297,
   "metadata": {},
   "outputs": [],
   "source": [
    "fa=f[int(i1+M)][int(i2+M)][int(i3+M)]\n",
    "fb=f[int(j1+M)][int(j2+M)][int(j3+M)]\n",
    "flam=f[k1][k2][k3]\n",
    "fmu=f[l1][l2][l3]\n",
    "flam=f[k1][k2][k3]\n",
    "fmu1=f[int(q[0])][int(q[1])][int(q[2])]\n",
    "flam1=f[int(q[0]-k1+j1)][int(q[1]-k1+j1)][int(q[2]-k1+j1)]"
   ]
  },
  {
   "cell_type": "code",
   "execution_count": 300,
   "metadata": {},
   "outputs": [],
   "source": [
    "deltat=0.1\n",
    "fa=fa-C*deltat\n",
    "fb=fb-C*deltat\n",
    "flam=flam+r*C*deltat\n",
    "fmu=fmu+r*C*deltat\n",
    "flam1=flam1+(1-r)*C*deltat\n",
    "fmu1=fmu1+(1-r)*C*deltat"
   ]
  },
  {
   "cell_type": "code",
   "execution_count": 302,
   "metadata": {},
   "outputs": [],
   "source": [
    "I=0\n",
    "#for i in range(2M+1):\n",
    "I=I+C*((flam*fmu)**(1-r)*(flam1*fmu1)**r-fa*fb)"
   ]
  },
  {
   "cell_type": "code",
   "execution_count": 303,
   "metadata": {},
   "outputs": [
    {
     "data": {
      "text/plain": [
       "-491680178919746.4"
      ]
     },
     "execution_count": 303,
     "metadata": {},
     "output_type": "execute_result"
    }
   ],
   "source": [
    "I"
   ]
  },
  {
   "cell_type": "code",
   "execution_count": 273,
   "metadata": {},
   "outputs": [
    {
     "data": {
      "text/plain": [
       "17"
      ]
     },
     "execution_count": 273,
     "metadata": {},
     "output_type": "execute_result"
    }
   ],
   "source": [
    "j3"
   ]
  },
  {
   "cell_type": "code",
   "execution_count": 149,
   "metadata": {},
   "outputs": [
    {
     "data": {
      "text/plain": [
       "4.815496488900996e+139"
      ]
     },
     "execution_count": 149,
     "metadata": {},
     "output_type": "execute_result"
    }
   ],
   "source": [
    "5*math.pi*(v[0][0]**2+v[1][0]**2+v[2][0]**2)*(np.sqrt(1/(2*math.pi)))**3*np.exp((v[0][0]**2+v[1][0]**2+v[2][0]**2)/(0.5))"
   ]
  },
  {
   "cell_type": "code",
   "execution_count": 150,
   "metadata": {},
   "outputs": [
    {
     "data": {
      "text/plain": [
       "-10.25"
      ]
     },
     "execution_count": 150,
     "metadata": {},
     "output_type": "execute_result"
    }
   ],
   "source": [
    "v[0][0]"
   ]
  },
  {
   "cell_type": "code",
   "execution_count": 152,
   "metadata": {},
   "outputs": [
    {
     "data": {
      "text/plain": [
       "7.659351754410023e+136"
      ]
     },
     "execution_count": 152,
     "metadata": {},
     "output_type": "execute_result"
    }
   ],
   "source": [
    "np.exp(v[0][0]**2+v[1][0]**2+v[2][0]**2)"
   ]
  },
  {
   "cell_type": "code",
   "execution_count": 240,
   "metadata": {},
   "outputs": [
    {
     "data": {
      "text/plain": [
       "10.25"
      ]
     },
     "execution_count": 240,
     "metadata": {},
     "output_type": "execute_result"
    }
   ],
   "source": [
    "v[0][41]"
   ]
  },
  {
   "cell_type": "code",
   "execution_count": 233,
   "metadata": {},
   "outputs": [
    {
     "data": {
      "text/plain": [
       "20.0"
      ]
     },
     "execution_count": 233,
     "metadata": {},
     "output_type": "execute_result"
    }
   ],
   "source": [
    "M"
   ]
  },
  {
   "cell_type": "code",
   "execution_count": 362,
   "metadata": {},
   "outputs": [
    {
     "data": {
      "text/plain": [
       "10"
      ]
     },
     "execution_count": 362,
     "metadata": {},
     "output_type": "execute_result"
    }
   ],
   "source": [
    "abs(-10)"
   ]
  },
  {
   "cell_type": "code",
   "execution_count": 395,
   "metadata": {},
   "outputs": [
    {
     "data": {
      "text/plain": [
       "4.5765109300871077e-35"
      ]
     },
     "execution_count": 395,
     "metadata": {},
     "output_type": "execute_result"
    }
   ],
   "source": [
    "f[0][0][0]"
   ]
  },
  {
   "cell_type": "code",
   "execution_count": 390,
   "metadata": {},
   "outputs": [
    {
     "data": {
      "text/plain": [
       "array([[[4.57651093e-35, 1.51553228e-33, 3.90860926e-32, ...,\n",
       "         1.24292637e-53, 3.08090645e-56, 5.94754860e-59],\n",
       "        [1.51553228e-33, 5.01875364e-32, 1.29435362e-30, ...,\n",
       "         4.11600685e-52, 1.02025609e-54, 1.96955760e-57],\n",
       "        [3.90860926e-32, 1.29435362e-30, 3.33818199e-29, ...,\n",
       "         1.06153216e-50, 2.63127515e-53, 5.07955599e-56],\n",
       "        ...,\n",
       "        [1.24292637e-53, 4.11600685e-52, 1.06153216e-50, ...,\n",
       "         2.63127515e-53, 1.31003476e-54, 5.07955599e-56],\n",
       "        [3.08090645e-56, 1.02025609e-54, 2.63127515e-53, ...,\n",
       "         1.31003476e-54, 6.52227900e-56, 2.52896202e-57],\n",
       "        [5.94754860e-59, 1.96955760e-57, 5.07955599e-56, ...,\n",
       "         5.07955599e-56, 2.52896202e-57, 9.80584988e-59]],\n",
       "\n",
       "       [[1.51553228e-33, 5.01875364e-32, 1.29435362e-30, ...,\n",
       "         4.11600685e-52, 1.02025609e-54, 1.96955760e-57],\n",
       "        [5.01875364e-32, 1.66198295e-30, 4.28631052e-29, ...,\n",
       "         1.36303427e-50, 3.37862417e-53, 6.52227900e-56],\n",
       "        [1.29435362e-30, 4.28631052e-29, 1.10545405e-27, ...,\n",
       "         3.51531172e-49, 8.71358658e-52, 1.68211792e-54],\n",
       "        ...,\n",
       "        [4.11600685e-52, 1.36303427e-50, 3.51531172e-49, ...,\n",
       "         1.75017065e-50, 8.71358658e-52, 3.37862417e-53],\n",
       "        [1.02025609e-54, 3.37862417e-53, 8.71358658e-52, ...,\n",
       "         8.71358658e-52, 4.33823931e-53, 1.68211792e-54],\n",
       "        [1.96955760e-57, 6.52227900e-56, 1.68211792e-54, ...,\n",
       "         3.37862417e-53, 1.68211792e-54, 6.52227900e-56]],\n",
       "\n",
       "       [[3.90860926e-32, 1.29435362e-30, 3.33818199e-29, ...,\n",
       "         1.06153216e-50, 2.63127515e-53, 5.07955599e-56],\n",
       "        [1.29435362e-30, 4.28631052e-29, 1.10545405e-27, ...,\n",
       "         3.51531172e-49, 8.71358658e-52, 1.68211792e-54],\n",
       "        [3.33818199e-29, 1.10545405e-27, 2.85100358e-26, ...,\n",
       "         9.06610842e-48, 2.24726360e-50, 4.33823931e-53],\n",
       "        ...,\n",
       "        [1.06153216e-50, 3.51531172e-49, 9.06610842e-48, ...,\n",
       "         9.06610842e-48, 4.51374960e-49, 1.75017065e-50],\n",
       "        [2.63127515e-53, 8.71358658e-52, 2.24726360e-50, ...,\n",
       "         4.51374960e-49, 2.24726360e-50, 8.71358658e-52],\n",
       "        [5.07955599e-56, 1.68211792e-54, 4.33823931e-53, ...,\n",
       "         1.75017065e-50, 8.71358658e-52, 3.37862417e-53]],\n",
       "\n",
       "       ...,\n",
       "\n",
       "       [[1.24292637e-53, 4.11600685e-52, 1.06153216e-50, ...,\n",
       "         2.63127515e-53, 1.31003476e-54, 5.07955599e-56],\n",
       "        [4.11600685e-52, 1.36303427e-50, 3.51531172e-49, ...,\n",
       "         1.75017065e-50, 8.71358658e-52, 3.37862417e-53],\n",
       "        [1.06153216e-50, 3.51531172e-49, 9.06610842e-48, ...,\n",
       "         9.06610842e-48, 4.51374960e-49, 1.75017065e-50],\n",
       "        ...,\n",
       "        [2.63127515e-53, 1.75017065e-50, 9.06610842e-48, ...,\n",
       "         2.31019213e-22, 1.15017693e-23, 4.45971995e-25],\n",
       "        [1.31003476e-54, 8.71358658e-52, 4.51374960e-49, ...,\n",
       "         1.15017693e-23, 5.72639376e-25, 2.22036382e-26],\n",
       "        [5.07955599e-56, 3.37862417e-53, 1.75017065e-50, ...,\n",
       "         4.45971995e-25, 2.22036382e-26, 8.60928482e-28]],\n",
       "\n",
       "       [[3.08090645e-56, 1.02025609e-54, 2.63127515e-53, ...,\n",
       "         1.31003476e-54, 6.52227900e-56, 2.52896202e-57],\n",
       "        [1.02025609e-54, 3.37862417e-53, 8.71358658e-52, ...,\n",
       "         8.71358658e-52, 4.33823931e-53, 1.68211792e-54],\n",
       "        [2.63127515e-53, 8.71358658e-52, 2.24726360e-50, ...,\n",
       "         4.51374960e-49, 2.24726360e-50, 8.71358658e-52],\n",
       "        ...,\n",
       "        [1.31003476e-54, 8.71358658e-52, 4.51374960e-49, ...,\n",
       "         1.15017693e-23, 5.72639376e-25, 2.22036382e-26],\n",
       "        [6.52227900e-56, 4.33823931e-53, 2.24726360e-50, ...,\n",
       "         5.72639376e-25, 2.85100358e-26, 1.10545405e-27],\n",
       "        [2.52896202e-57, 1.68211792e-54, 8.71358658e-52, ...,\n",
       "         2.22036382e-26, 1.10545405e-27, 4.28631052e-29]],\n",
       "\n",
       "       [[5.94754860e-59, 1.96955760e-57, 5.07955599e-56, ...,\n",
       "         5.07955599e-56, 2.52896202e-57, 9.80584988e-59],\n",
       "        [1.96955760e-57, 6.52227900e-56, 1.68211792e-54, ...,\n",
       "         3.37862417e-53, 1.68211792e-54, 6.52227900e-56],\n",
       "        [5.07955599e-56, 1.68211792e-54, 4.33823931e-53, ...,\n",
       "         1.75017065e-50, 8.71358658e-52, 3.37862417e-53],\n",
       "        ...,\n",
       "        [5.07955599e-56, 3.37862417e-53, 1.75017065e-50, ...,\n",
       "         4.45971995e-25, 2.22036382e-26, 8.60928482e-28],\n",
       "        [2.52896202e-57, 1.68211792e-54, 8.71358658e-52, ...,\n",
       "         2.22036382e-26, 1.10545405e-27, 4.28631052e-29],\n",
       "        [9.80584988e-59, 6.52227900e-56, 3.37862417e-53, ...,\n",
       "         8.60928482e-28, 4.28631052e-29, 1.66198295e-30]]])"
      ]
     },
     "execution_count": 390,
     "metadata": {},
     "output_type": "execute_result"
    }
   ],
   "source": [
    "f"
   ]
  },
  {
   "cell_type": "code",
   "execution_count": 435,
   "metadata": {},
   "outputs": [
    {
     "data": {
      "text/plain": [
       "(3, 42)"
      ]
     },
     "execution_count": 435,
     "metadata": {},
     "output_type": "execute_result"
    }
   ],
   "source": [
    "a=np.array(v)\n",
    "a.shape"
   ]
  },
  {
   "cell_type": "code",
   "execution_count": null,
   "metadata": {},
   "outputs": [],
   "source": []
  },
  {
   "cell_type": "code",
   "execution_count": null,
   "metadata": {},
   "outputs": [],
   "source": []
  }
 ],
 "metadata": {
  "kernelspec": {
   "display_name": "Python 3",
   "language": "python",
   "name": "python3"
  },
  "language_info": {
   "codemirror_mode": {
    "name": "ipython",
    "version": 3
   },
   "file_extension": ".py",
   "mimetype": "text/x-python",
   "name": "python",
   "nbconvert_exporter": "python",
   "pygments_lexer": "ipython3",
   "version": "3.6.5"
  }
 },
 "nbformat": 4,
 "nbformat_minor": 2
}
