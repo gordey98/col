{
 "cells": [
  {
   "cell_type": "code",
   "execution_count": 148,
   "metadata": {},
   "outputs": [],
   "source": [
    "import numpy as np\n",
    "import math"
   ]
  },
  {
   "cell_type": "code",
   "execution_count": 140,
   "metadata": {},
   "outputs": [],
   "source": [
    "u=np.ones(3)\n",
    "v=np.ones(3)\n",
    "u1=np.ones(3)\n",
    "v1=np.ones(3)\n",
    "g=np.ones(3)\n",
    "g1=np.ones(3)\n",
    "e=0\n",
    "b=0\n",
    "theta=0\n",
    "d=1"
   ]
  },
  {
   "cell_type": "markdown",
   "metadata": {},
   "source": [
    "Функция, пересчитывающая скорости после столкновения"
   ]
  },
  {
   "cell_type": "code",
   "execution_count": 141,
   "metadata": {},
   "outputs": [],
   "source": [
    "def col (u,v,e,b):\n",
    "    g=u-v\n",
    "    theta=2*np.arccos(b/d)\n",
    "    g2=np.sqrt(g[0]**2+g[1]**2)\n",
    "    g1[0]=g[0]*np.cos(theta)-g[0]*g[2]*np.cos(e)*np.sin(theta)/g2+g[0]*g[1]*np.sin(e)*np.sin(theta)/g2\n",
    "    g1[1]=g[1]*np.cos(theta)-g[1]*g[2]*np.cos(e)*np.sin(theta)/g2+g[0]*g[1]*np.sin(e)*np.sin(theta)/g2\n",
    "    g1[2]=g[2]*np.cos(theta)+g2*np.cos(e)*np.sin(theta)\n",
    "    u1=u*0.5+v*0.5+g1*0.5\n",
    "    v1=(u+v)*0.5-g1*0.5\n",
    "    return u1, v1"
   ]
  },
  {
   "cell_type": "markdown",
   "metadata": {},
   "source": [
    "Проверка"
   ]
  },
  {
   "cell_type": "code",
   "execution_count": 142,
   "metadata": {},
   "outputs": [
    {
     "data": {
      "text/plain": [
       "'Correct'"
      ]
     },
     "execution_count": 142,
     "metadata": {},
     "output_type": "execute_result"
    }
   ],
   "source": [
    "vtest=np.random.randn(3)\n",
    "utest=np.random.randn(3)\n",
    "u1,v1=col(vtest,utest,0,0)\n",
    "def test(u1, v1):\n",
    "    if (np.round(utest+vtest,6) == np.round(u1+v1,6)).all() and round(utest[0]**2+utest[1]**2+utest[2]**2+vtest[0]**2+vtest[1]**2+vtest[2]**2,6) == round(u1[0]**2+u1[1]**2+u1[2]**2+v1[0]**2+v1[1]**2+v1[2]**2,6):\n",
    "        return (\"Correct\")\n",
    "    else:\n",
    "        return (\"Incorrect\")\n",
    "test(u1,v1)"
   ]
  },
  {
   "cell_type": "markdown",
   "metadata": {},
   "source": [
    "Сетка"
   ]
  },
  {
   "cell_type": "code",
   "execution_count": 143,
   "metadata": {},
   "outputs": [],
   "source": [
    "k=1\n",
    "T=1\n",
    "m=1\n",
    "v0=np.sqrt(k*T/m)\n",
    "delta=v0/2\n",
    "vcut=10*v0\n",
    "M=vcut/delta\n",
    "v=[[(0.5+k)*delta for k in range(int(-M),int(M))] for j in range(3)]"
   ]
  },
  {
   "cell_type": "markdown",
   "metadata": {},
   "source": [
    "Генерация скоростей (индексов из сетки)"
   ]
  },
  {
   "cell_type": "code",
   "execution_count": 149,
   "metadata": {},
   "outputs": [],
   "source": [
    "b=np.random.rand()\n",
    "e=np.random.uniform(0,2*math.pi)\n",
    "i1=np.random.randint(int(-M),int(M))\n",
    "i2=np.random.randint(int(-M),int(M))\n",
    "i3=np.random.randint(int(-M),int(M))\n",
    "j1=np.random.randint(int(-M),int(M))\n",
    "j2=np.random.randint(int(-M),int(M))\n",
    "j3=np.random.randint(int(-M),int(M))"
   ]
  },
  {
   "cell_type": "code",
   "execution_count": 150,
   "metadata": {},
   "outputs": [],
   "source": [
    "u1,v1=col(np.array([v[0][i1],v[1][i2],v[2][i3]]),np.array([v[0][j1],v[1][j2],v[2][j3]]),e,b)"
   ]
  },
  {
   "cell_type": "markdown",
   "metadata": {},
   "source": [
    "interpolation"
   ]
  },
  {
   "cell_type": "code",
   "execution_count": 151,
   "metadata": {},
   "outputs": [],
   "source": [
    "k1=int(round(u1[0]/delta))\n",
    "k2=int(round(u1[1]/delta))\n",
    "k3=int(round(u1[2]/delta))\n",
    "l1=int(round(v1[0]/delta))\n",
    "l2=int(round(v1[1]/delta))\n",
    "l3=int(round(v1[2]/delta))"
   ]
  },
  {
   "cell_type": "code",
   "execution_count": 152,
   "metadata": {},
   "outputs": [],
   "source": [
    "u2=np.ones(3)\n",
    "v2=np.ones(3)\n",
    "u2[0]=v[0][k1]\n",
    "u2[1]=v[1][k2]\n",
    "u2[2]=v[2][k3]\n",
    "v2[0]=v[0][l1]\n",
    "v2[1]=v[1][l2]\n",
    "v2[2]=v[2][l3]"
   ]
  },
  {
   "cell_type": "code",
   "execution_count": 153,
   "metadata": {},
   "outputs": [
    {
     "data": {
      "text/plain": [
       "array([ 9.25, -3.25,  1.25])"
      ]
     },
     "execution_count": 153,
     "metadata": {},
     "output_type": "execute_result"
    }
   ],
   "source": [
    "u2"
   ]
  },
  {
   "cell_type": "code",
   "execution_count": 154,
   "metadata": {},
   "outputs": [
    {
     "data": {
      "text/plain": [
       "array([ 9.25,  9.25, -8.75])"
      ]
     },
     "execution_count": 154,
     "metadata": {},
     "output_type": "execute_result"
    }
   ],
   "source": [
    "v2"
   ]
  },
  {
   "cell_type": "code",
   "execution_count": 156,
   "metadata": {},
   "outputs": [],
   "source": [
    "E1=u2[0]**2+u2[1]**2+u2[2]**2\n",
    "E2=v2[0]**2+v2[1]**2+v2[2]**2\n",
    "E0=v[0][i1]**2+v[1][i2]**2+v[2][i3]**2+v[0][j1]**2+v[1][j2]**2+v[2][j3]**2"
   ]
  },
  {
   "cell_type": "code",
   "execution_count": 157,
   "metadata": {},
   "outputs": [
    {
     "data": {
      "text/plain": [
       "158.375"
      ]
     },
     "execution_count": 157,
     "metadata": {},
     "output_type": "execute_result"
    }
   ],
   "source": [
    "E0"
   ]
  },
  {
   "cell_type": "code",
   "execution_count": 158,
   "metadata": {},
   "outputs": [
    {
     "data": {
      "text/plain": [
       "345.375"
      ]
     },
     "execution_count": 158,
     "metadata": {},
     "output_type": "execute_result"
    }
   ],
   "source": [
    "E1+E2"
   ]
  },
  {
   "cell_type": "code",
   "execution_count": null,
   "metadata": {},
   "outputs": [],
   "source": []
  }
 ],
 "metadata": {
  "kernelspec": {
   "display_name": "Python 3",
   "language": "python",
   "name": "python3"
  },
  "language_info": {
   "codemirror_mode": {
    "name": "ipython",
    "version": 3
   },
   "file_extension": ".py",
   "mimetype": "text/x-python",
   "name": "python",
   "nbconvert_exporter": "python",
   "pygments_lexer": "ipython3",
   "version": "3.6.5"
  }
 },
 "nbformat": 4,
 "nbformat_minor": 2
}
