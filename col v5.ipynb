{
 "cells": [
  {
   "cell_type": "markdown",
   "metadata": {},
   "source": [
    "Импорт библиотек"
   ]
  },
  {
   "cell_type": "code",
   "execution_count": 1,
   "metadata": {},
   "outputs": [],
   "source": [
    "import numpy as np\n",
    "import math\n",
    "import matplotlib.pylab as plt"
   ]
  },
  {
   "cell_type": "markdown",
   "metadata": {},
   "source": [
    "Вводим необходимые константы и объекты"
   ]
  },
  {
   "cell_type": "code",
   "execution_count": 3,
   "metadata": {},
   "outputs": [],
   "source": [
    "u=np.ones(3)\n",
    "v=np.ones(3)\n",
    "u1=np.ones(3)\n",
    "v1=np.ones(3)\n",
    "g=np.ones(3)\n",
    "g1=np.ones(3)\n",
    "e=0\n",
    "b=0\n",
    "theta=0\n",
    "d=1"
   ]
  },
  {
   "cell_type": "markdown",
   "metadata": {},
   "source": [
    "Вводим необходимые функции"
   ]
  },
  {
   "cell_type": "code",
   "execution_count": 5,
   "metadata": {},
   "outputs": [],
   "source": [
    "def col (u,v,e,b):\n",
    "    g=u-v\n",
    "    theta=2*np.arccos(b/d)\n",
    "    g2=np.sqrt(g[0]**2+g[1]**2)\n",
    "    g1[0]=g[0]*np.cos(theta)-g[0]*g[2]*np.cos(e)*np.sin(theta)/g2+g[0]*g[1]*np.sin(e)*np.sin(theta)/g2\n",
    "    g1[1]=g[1]*np.cos(theta)-g[1]*g[2]*np.cos(e)*np.sin(theta)/g2+g[0]*g[1]*np.sin(e)*np.sin(theta)/g2\n",
    "    g1[2]=g[2]*np.cos(theta)+g2*np.cos(e)*np.sin(theta)\n",
    "    u1=u*0.5+v*0.5+g1*0.5\n",
    "    v1=(u+v)*0.5-g1*0.5\n",
    "    return u1, v1\n",
    "def countr(i,j,k):\n",
    "    E1=v[0][i]**2+v[1][j]**2+v[2][k]**2+v[0][k1]**2+v[1][k2]**2+v[2][k3]**2\n",
    "    E2=v[0][i-k1+j1]**2+v[1][j-k2+j2]**2+v[2][k-k3+j3]**2+v[0][j1]**2+v[1][j2]**2+v[2][j3]**2\n",
    "    r=(E0-E1)/(E2-E1)\n",
    "    return (r)\n",
    "def dist(v,i,j,k):\n",
    "    a =4*math.pi*(np.sqrt(1/(2*math.pi)))**3*np.exp(-((v[0][i]-3)**2+(v[1][j]-3)**2+(v[2][k]-3)**2)/(2))+4*math.pi*(np.sqrt(1/(2*math.pi)))**3*np.exp(-((v[0][i]+3)**2+(v[1][j]+3)**2+(v[2][k]+3)**2)/(2))\n",
    "    return a"
   ]
  },
  {
   "cell_type": "code",
   "execution_count": 6,
   "metadata": {},
   "outputs": [
    {
     "data": {
      "text/plain": [
       "'Correct'"
      ]
     },
     "execution_count": 6,
     "metadata": {},
     "output_type": "execute_result"
    }
   ],
   "source": [
    "vtest=np.random.randn(3)\n",
    "utest=np.random.randn(3)\n",
    "u1,v1=col(vtest,utest,0,0)\n",
    "def test(u1, v1):\n",
    "    if (np.round(utest+vtest,6) == np.round(u1+v1,6)).all() and round(utest[0]**2+utest[1]**2+utest[2]**2+vtest[0]**2+vtest[1]**2+vtest[2]**2,6) == round(u1[0]**2+u1[1]**2+u1[2]**2+v1[0]**2+v1[1]**2+v1[2]**2,6):\n",
    "        return (\"Correct\")\n",
    "    else:\n",
    "        return (\"Incorrect\")\n",
    "test(u1,v1)"
   ]
  },
  {
   "cell_type": "markdown",
   "metadata": {},
   "source": [
    "Вводим сетку"
   ]
  },
  {
   "cell_type": "code",
   "execution_count": 7,
   "metadata": {},
   "outputs": [],
   "source": [
    "deltat=0.1\n",
    "B=0\n",
    "k=1\n",
    "T=1\n",
    "m=1\n",
    "v0=np.sqrt(k*T/m)\n",
    "delta=v0/2\n",
    "vcut=10*v0\n",
    "M=vcut/delta\n",
    "v=[[(0.5+k)*delta for k in range(int(-M-1),int(M+1))] for j in range(3)]\n",
    "f=np.zeros((int(2*M)+2,int(2*M)+2,int(2*M)+2))\n",
    "f1 = np.zeros((int(2*M)+2,int(2*M)+2,int(2*M)+2))\n",
    "C=16*math.pi*vcut**3/(delta)**3\n",
    "for i in range(0,int(2*M)+2):\n",
    "    for j in range(0,int(2*M)+2):\n",
    "        for k in range(0,int(2*M)+2):\n",
    "            f[i][j][k] = float(dist(v,i,j,k))"
   ]
  },
  {
   "cell_type": "markdown",
   "metadata": {},
   "source": [
    "Основная часть"
   ]
  },
  {
   "cell_type": "code",
   "execution_count": 8,
   "metadata": {},
   "outputs": [
    {
     "name": "stderr",
     "output_type": "stream",
     "text": [
      "/anaconda3/lib/python3.6/site-packages/ipykernel_launcher.py:14: RuntimeWarning: divide by zero encountered in double_scalars\n",
      "  \n",
      "/anaconda3/lib/python3.6/site-packages/ipykernel_launcher.py:14: RuntimeWarning: invalid value encountered in double_scalars\n",
      "  \n",
      "/anaconda3/lib/python3.6/site-packages/ipykernel_launcher.py:5: RuntimeWarning: invalid value encountered in double_scalars\n",
      "  \"\"\"\n",
      "/anaconda3/lib/python3.6/site-packages/ipykernel_launcher.py:6: RuntimeWarning: invalid value encountered in double_scalars\n",
      "  \n"
     ]
    }
   ],
   "source": [
    "for o in range(100000):\n",
    "    b=np.random.rand()\n",
    "    e=np.random.uniform(0,2*math.pi)\n",
    "    i1=np.random.randint(int(-M-1),int(M+1))\n",
    "    i2=np.random.randint(int(-M-1),int(M+1))\n",
    "    i3=np.random.randint(int(-M-1),int(M+1))\n",
    "    j1=np.random.randint(int(-M-1),int(M+1))  \n",
    "    j2=np.random.randint(int(-M-1),int(M+1))\n",
    "    j3=np.random.randint(int(-M-1),int(M+1))\n",
    "    u1,v1=col(np.array([v[0][i1],v[1][i2],v[2][i3]]),np.array([v[0][j1],v[1][j2],v[2][j3]]),e,b)\n",
    "    if abs(u1[0])<10 and abs(u1[1])<10 and abs(u1[2])<10 and abs(v1[0])<10 and abs(v1[1])<10 and abs(v1[2])<10:\n",
    "        k1=int(round((u1[0]+10.25)/delta))\n",
    "        k2=int(round((u1[1]+10.25)/delta))\n",
    "        k3=int(round((u1[2]+10.25)/delta))\n",
    "        l1=int(round((v1[0]+10.25)/delta))\n",
    "        l2=int(round((v1[1]+10.25)/delta))\n",
    "        l3=int(round((v1[2]+10.25)/delta))\n",
    "        u2=np.ones(3)\n",
    "        v2=np.ones(3)\n",
    "        u2[0]=v[0][int(k1)]\n",
    "        u2[1]=v[1][int(k2)]\n",
    "        u2[2]=v[2][int(k3)]\n",
    "        v2[0]=v[0][int(l1)]\n",
    "        v2[1]=v[1][int(l2)]\n",
    "        v2[2]=v[2][int(l3)]\n",
    "        E0=v[0][i1]**2+v[1][i2]**2+v[2][i3]**2+v[0][j1]**2+v[1][j2]**2+v[2][j3]**2\n",
    "        q=np.ones(3)\n",
    "        for i in range(k1-1,k1+2):\n",
    "            for j in range(k2-1,k2+2):\n",
    "                for k in range(k3-1,k3+2):\n",
    "                    r = countr(i,j,k)\n",
    "                    if r<1 and r>0:\n",
    "                        q[0]=i\n",
    "                        q[1]=j\n",
    "                        q[2]=k\n",
    "                        break\n",
    "                    else:\n",
    "                        continue\n",
    "        if r<1 and r>0 and f[k1][k2][k3] >0 and f[l1][l2][l3]>0 and f[int(q[0])][int(q[1])][int(q[2])] > 0 and f[int(q[0]-k1+l1)][int(q[1]-k2+l2)][int(q[2]-k3+l3)]>0 and f[int(i1+M)][int(i2+M)][int(i3+M)]>0 and f[int(j1+M)][int(j2+M)][int(j3+M)]>0 and f[k1][k2][k3]*f[l1][l2][l3] < np.inf and f[int(q[0])][int(q[1])][int(q[2])]*f[int(q[0]-k1+l1)][int(q[1]-k2+l2)][int(q[2]-k3+l3)]<np.inf and f[int(i1+M)][int(i2+M)][int(i3+M)]*f[int(j1+M)][int(j2+M)][int(j3+M)] < np.inf:\n",
    "            B=C*((f[k1][k2][k3]*f[l1][l2][l3])**(1-r)*(f[int(q[0])][int(q[1])][int(q[2])]*f[int(q[0]-k1+l1)][int(q[1]-k2+l2)][int(q[2]-k3+l3)])**r-f[int(i1+M)][int(i2+M)][int(i3+M)]*f[int(j1+M)][int(j2+M)][int(j3+M)])\n",
    "            if np.isnan(B):\n",
    "                print(o,r,B)\n",
    "                print(f[k1][k2][k3])\n",
    "                print(f[l1][l2][l3])\n",
    "                print(f[int(q[0])][int(q[1])][int(q[2])])\n",
    "                print(f[int(q[0]-k1+l1)][int(q[1]-k2+l2)][int(q[2]-k3+l3)])\n",
    "                print(f[int(i1+M)][int(i2+M)][int(i3+M)])\n",
    "                print(f[int(j1+M)][int(j2+M)][int(j3+M)])\n",
    "            f[int(i1+M)][int(i2+M)][int(i3+M)]=f[int(i1+M)][int(i2+M)][int(i3+M)]-B*deltat\n",
    "            f[int(j1+M)][int(j2+M)][int(j3+M)]=f[int(j1+M)][int(j2+M)][int(j3+M)]-B*deltat\n",
    "            f[k1][k2][k3]=f[k1][k2][k3]+r*B*deltat\n",
    "            f[int(l1)][int(l2)][int(l3)]=f[int(l1)][int(l2)][int(l3)]+r*B*deltat\n",
    "            f[int(q[0])][int(q[1])][int(q[2])]=f[int(q[0])][int(q[1])][int(q[2])]+(1-r)*B*deltat\n",
    "            f[int(q[0]-k1+l1)][int(q[1]-k2+l2)][int(q[2]-k3+l3)]=f[int(q[0]-k1+l1)][int(q[1]-k2+l2)][int(q[2]-k3+l3)]+(1-r)*B*deltat"
   ]
  },
  {
   "cell_type": "markdown",
   "metadata": {},
   "source": [
    "Функция распределения"
   ]
  },
  {
   "cell_type": "code",
   "execution_count": 9,
   "metadata": {},
   "outputs": [],
   "source": [
    "def disttest(v):\n",
    "    f=4*math.pi*(np.sqrt(1/(2*math.pi)))**3*np.exp(-(v-2)**2)+4*math.pi*(np.sqrt(1/(2*math.pi)))**3*np.exp(-(v+2)**2)\n",
    "    return f"
   ]
  },
  {
   "cell_type": "code",
   "execution_count": 10,
   "metadata": {},
   "outputs": [],
   "source": [
    "p=np.arange(-10,10,0.1)"
   ]
  },
  {
   "cell_type": "code",
   "execution_count": 11,
   "metadata": {},
   "outputs": [
    {
     "data": {
      "text/plain": [
       "<function matplotlib.pyplot.show(*args, **kw)>"
      ]
     },
     "execution_count": 11,
     "metadata": {},
     "output_type": "execute_result"
    },
    {
     "data": {
      "image/png": "[encoded data removed]",
      "text/plain": [
       "<Figure size 432x288 with 1 Axes>"
      ]
     },
     "metadata": {},
     "output_type": "display_data"
    }
   ],
   "source": [
    "fig=plt.figure()\n",
    "plt.plot(p,disttest(p))\n",
    "plt.show"
   ]
  },
  {
   "cell_type": "code",
   "execution_count": 29,
   "metadata": {},
   "outputs": [
    {
     "data": {
      "text/plain": [
       "<function matplotlib.pyplot.show(*args, **kw)>"
      ]
     },
     "execution_count": 29,
     "metadata": {},
     "output_type": "execute_result"
    },
    {
     "data": {
      "image/png": "[encoded data removed]",
      "text/plain": [
       "<Figure size 432x288 with 1 Axes>"
      ]
     },
     "metadata": {},
     "output_type": "display_data"
    }
   ],
   "source": [
    "fig=plt.figure()\n",
    "plt.plot(v[1],f[11][10])\n",
    "plt.show"
   ]
  },
  {
   "cell_type": "code",
   "execution_count": null,
   "metadata": {},
   "outputs": [],
   "source": []
  }
 ],
 "metadata": {
  "kernelspec": {
   "display_name": "Python 3",
   "language": "python",
   "name": "python3"
  },
  "language_info": {
   "codemirror_mode": {
    "name": "ipython",
    "version": 3
   },
   "file_extension": ".py",
   "mimetype": "text/x-python",
   "name": "python",
   "nbconvert_exporter": "python",
   "pygments_lexer": "ipython3",
   "version": "3.6.5"
  }
 },
 "nbformat": 4,
 "nbformat_minor": 2
}
